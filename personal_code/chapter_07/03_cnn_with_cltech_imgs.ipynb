{
 "cells": [
  {
   "cell_type": "code",
   "execution_count": 12,
   "metadata": {},
   "outputs": [],
   "source": [
    "import tensorflow as tf\n",
    "import numpy as np\n",
    "import matplotlib.pyplot as plt\n",
    "import tensorflow_datasets as tfds\n",
    "import os\n",
    "import pandas as pd\n",
    "from sklearn.model_selection import train_test_split"
   ]
  },
  {
   "cell_type": "markdown",
   "metadata": {},
   "source": [
    "### Load in data"
   ]
  },
  {
   "cell_type": "code",
   "execution_count": 4,
   "metadata": {},
   "outputs": [],
   "source": [
    "data_dir = '../../Data/Calteck_DataSet_256_ObjectCategories'\n",
    "rice_types = os.listdir(data_dir)[:-1]"
   ]
  },
  {
   "cell_type": "code",
   "execution_count": 9,
   "metadata": {},
   "outputs": [],
   "source": [
    "catagory_list = []\n",
    "for dir in rice_types:\n",
    "    folder_path = '/'.join([data_dir, dir])\n",
    "    imgs = os.listdir(folder_path)\n",
    "    img_paths = ['/'.join([folder_path, img]) for img in imgs]\n",
    "    for img_path in img_paths:\n",
    "        catagory_dict = {}\n",
    "        catagory_dict['path'] = img_path\n",
    "        catagory_dict['type'] = dir[4:]\n",
    "        catagory_list.append(catagory_dict)\n",
    "catagory_df = pd.DataFrame(catagory_list)"
   ]
  },
  {
   "cell_type": "code",
   "execution_count": 10,
   "metadata": {},
   "outputs": [
    {
     "data": {
      "text/html": [
       "<div>\n",
       "<style scoped>\n",
       "    .dataframe tbody tr th:only-of-type {\n",
       "        vertical-align: middle;\n",
       "    }\n",
       "\n",
       "    .dataframe tbody tr th {\n",
       "        vertical-align: top;\n",
       "    }\n",
       "\n",
       "    .dataframe thead th {\n",
       "        text-align: right;\n",
       "    }\n",
       "</style>\n",
       "<table border=\"1\" class=\"dataframe\">\n",
       "  <thead>\n",
       "    <tr style=\"text-align: right;\">\n",
       "      <th></th>\n",
       "      <th>path</th>\n",
       "      <th>type</th>\n",
       "    </tr>\n",
       "  </thead>\n",
       "  <tbody>\n",
       "    <tr>\n",
       "      <th>0</th>\n",
       "      <td>../../Data/Calteck_DataSet_256_ObjectCategorie...</td>\n",
       "      <td>ak47</td>\n",
       "    </tr>\n",
       "    <tr>\n",
       "      <th>1</th>\n",
       "      <td>../../Data/Calteck_DataSet_256_ObjectCategorie...</td>\n",
       "      <td>ak47</td>\n",
       "    </tr>\n",
       "    <tr>\n",
       "      <th>2</th>\n",
       "      <td>../../Data/Calteck_DataSet_256_ObjectCategorie...</td>\n",
       "      <td>ak47</td>\n",
       "    </tr>\n",
       "    <tr>\n",
       "      <th>3</th>\n",
       "      <td>../../Data/Calteck_DataSet_256_ObjectCategorie...</td>\n",
       "      <td>ak47</td>\n",
       "    </tr>\n",
       "    <tr>\n",
       "      <th>4</th>\n",
       "      <td>../../Data/Calteck_DataSet_256_ObjectCategorie...</td>\n",
       "      <td>ak47</td>\n",
       "    </tr>\n",
       "    <tr>\n",
       "      <th>...</th>\n",
       "      <td>...</td>\n",
       "      <td>...</td>\n",
       "    </tr>\n",
       "    <tr>\n",
       "      <th>29776</th>\n",
       "      <td>../../Data/Calteck_DataSet_256_ObjectCategorie...</td>\n",
       "      <td>toad</td>\n",
       "    </tr>\n",
       "    <tr>\n",
       "      <th>29777</th>\n",
       "      <td>../../Data/Calteck_DataSet_256_ObjectCategorie...</td>\n",
       "      <td>toad</td>\n",
       "    </tr>\n",
       "    <tr>\n",
       "      <th>29778</th>\n",
       "      <td>../../Data/Calteck_DataSet_256_ObjectCategorie...</td>\n",
       "      <td>toad</td>\n",
       "    </tr>\n",
       "    <tr>\n",
       "      <th>29779</th>\n",
       "      <td>../../Data/Calteck_DataSet_256_ObjectCategorie...</td>\n",
       "      <td>toad</td>\n",
       "    </tr>\n",
       "    <tr>\n",
       "      <th>29780</th>\n",
       "      <td>../../Data/Calteck_DataSet_256_ObjectCategorie...</td>\n",
       "      <td>toad</td>\n",
       "    </tr>\n",
       "  </tbody>\n",
       "</table>\n",
       "<p>29781 rows × 2 columns</p>\n",
       "</div>"
      ],
      "text/plain": [
       "                                                    path  type\n",
       "0      ../../Data/Calteck_DataSet_256_ObjectCategorie...  ak47\n",
       "1      ../../Data/Calteck_DataSet_256_ObjectCategorie...  ak47\n",
       "2      ../../Data/Calteck_DataSet_256_ObjectCategorie...  ak47\n",
       "3      ../../Data/Calteck_DataSet_256_ObjectCategorie...  ak47\n",
       "4      ../../Data/Calteck_DataSet_256_ObjectCategorie...  ak47\n",
       "...                                                  ...   ...\n",
       "29776  ../../Data/Calteck_DataSet_256_ObjectCategorie...  toad\n",
       "29777  ../../Data/Calteck_DataSet_256_ObjectCategorie...  toad\n",
       "29778  ../../Data/Calteck_DataSet_256_ObjectCategorie...  toad\n",
       "29779  ../../Data/Calteck_DataSet_256_ObjectCategorie...  toad\n",
       "29780  ../../Data/Calteck_DataSet_256_ObjectCategorie...  toad\n",
       "\n",
       "[29781 rows x 2 columns]"
      ]
     },
     "execution_count": 10,
     "metadata": {},
     "output_type": "execute_result"
    }
   ],
   "source": [
    "catagory_df"
   ]
  },
  {
   "cell_type": "code",
   "execution_count": 13,
   "metadata": {},
   "outputs": [],
   "source": [
    "train_val_df, test_df = train_test_split(catagory_df, train_size=0.8, random_state=42, stratify=catagory_df['type'])\n",
    "train_df, val_df = train_test_split(train_val_df, train_size=0.8, random_state=42, stratify=train_val_df['type'])"
   ]
  },
  {
   "cell_type": "code",
   "execution_count": 4,
   "metadata": {},
   "outputs": [],
   "source": [
    "num_classes = 257\n",
    "\n",
    "model = tf.keras.Sequential([\n",
    "  tf.keras.layers.Rescaling(1./255),\n",
    "  tf.keras.layers.Conv2D(32, 3, activation='relu'),\n",
    "  tf.keras.layers.MaxPooling2D(),\n",
    "  tf.keras.layers.Conv2D(32, 3, activation='relu'),\n",
    "  tf.keras.layers.MaxPooling2D(),\n",
    "  tf.keras.layers.Conv2D(32, 3, activation='relu'),\n",
    "  tf.keras.layers.MaxPooling2D(),\n",
    "  tf.keras.layers.Flatten(),\n",
    "  tf.keras.layers.Dense(128, activation='relu'),\n",
    "  tf.keras.layers.Dense(num_classes)\n",
    "])"
   ]
  },
  {
   "cell_type": "code",
   "execution_count": 5,
   "metadata": {},
   "outputs": [],
   "source": [
    "model.compile(\n",
    "  optimizer='adam',\n",
    "  loss=tf.keras.losses.SparseCategoricalCrossentropy(from_logits=True),\n",
    "  metrics=['accuracy'])"
   ]
  },
  {
   "cell_type": "code",
   "execution_count": 9,
   "metadata": {},
   "outputs": [
    {
     "name": "stdout",
     "output_type": "stream",
     "text": [
      "Epoch 1/3\n"
     ]
    },
    {
     "name": "stderr",
     "output_type": "stream",
     "text": [
      "c:\\Users\\jsshe\\Documents\\learning\\oreilly\\deep_learning_cnn\\.venv\\Lib\\site-packages\\keras\\src\\trainers\\data_adapters\\py_dataset_adapter.py:121: UserWarning: Your `PyDataset` class should call `super().__init__(**kwargs)` in its constructor. `**kwargs` can include `workers`, `use_multiprocessing`, `max_queue_size`. Do not pass these arguments to `fit()`, as they will be ignored.\n",
      "  self._warn_if_super_not_called()\n"
     ]
    },
    {
     "name": "stdout",
     "output_type": "stream",
     "text": [
      "\u001b[1m47/47\u001b[0m \u001b[32m━━━━━━━━━━━━━━━━━━━━\u001b[0m\u001b[37m\u001b[0m \u001b[1m24s\u001b[0m 479ms/step - accuracy: 0.0279 - loss: 5.4671\n",
      "Epoch 2/3\n",
      "\u001b[1m47/47\u001b[0m \u001b[32m━━━━━━━━━━━━━━━━━━━━\u001b[0m\u001b[37m\u001b[0m \u001b[1m15s\u001b[0m 301ms/step - accuracy: 0.0490 - loss: 5.2682\n",
      "Epoch 3/3\n",
      "\u001b[1m47/47\u001b[0m \u001b[32m━━━━━━━━━━━━━━━━━━━━\u001b[0m\u001b[37m\u001b[0m \u001b[1m15s\u001b[0m 306ms/step - accuracy: 0.0897 - loss: 4.9466\n"
     ]
    },
    {
     "data": {
      "text/plain": [
       "<keras.src.callbacks.history.History at 0x286ce7b6210>"
      ]
     },
     "execution_count": 9,
     "metadata": {},
     "output_type": "execute_result"
    }
   ],
   "source": [
    "model.fit(\n",
    "  val_it,\n",
    "  epochs=3\n",
    ")"
   ]
  },
  {
   "cell_type": "code",
   "execution_count": null,
   "metadata": {},
   "outputs": [],
   "source": []
  }
 ],
 "metadata": {
  "kernelspec": {
   "display_name": ".venv",
   "language": "python",
   "name": "python3"
  },
  "language_info": {
   "codemirror_mode": {
    "name": "ipython",
    "version": 3
   },
   "file_extension": ".py",
   "mimetype": "text/x-python",
   "name": "python",
   "nbconvert_exporter": "python",
   "pygments_lexer": "ipython3",
   "version": "3.11.7"
  }
 },
 "nbformat": 4,
 "nbformat_minor": 2
}
