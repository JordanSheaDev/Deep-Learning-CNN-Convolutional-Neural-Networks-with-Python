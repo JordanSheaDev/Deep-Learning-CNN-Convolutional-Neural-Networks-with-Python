{
 "cells": [
  {
   "cell_type": "code",
   "execution_count": 1,
   "metadata": {},
   "outputs": [],
   "source": [
    "import numpy as np"
   ]
  },
  {
   "cell_type": "code",
   "execution_count": 2,
   "metadata": {},
   "outputs": [],
   "source": [
    "def pad_img(img: np.ndarray, padding: int) -> np.ndarray:\n",
    "    # Get size of image\n",
    "    num_rows = img.shape[0]\n",
    "    num_cols = img.shape[1]\n",
    "    \n",
    "    # Create padding for rows\n",
    "    zero_rows = np.zeros((padding, num_cols))\n",
    "    # Add padding to each side of the image\n",
    "    img = np.vstack((zero_rows, img))\n",
    "    img = np.vstack((img, zero_rows))\n",
    "    \n",
    "    # Create padding for columns (need to add 2*padding\n",
    "    # as the image is now wider)\n",
    "    zero_cols = np.zeros((num_rows+2*padding, padding))\n",
    "    # Add padding to top and bottom of the image\n",
    "    img = np.hstack((zero_cols, img))\n",
    "    img = np.hstack((img, zero_cols))\n",
    "    \n",
    "    return img"
   ]
  },
  {
   "cell_type": "code",
   "execution_count": 3,
   "metadata": {},
   "outputs": [],
   "source": [
    "def convolute_2d(img: np.ndarray, kernel: np.ndarray, padding: int) -> np.ndarray:\n",
    "    # Assume square mask\n",
    "    kernel_size = kernel.shape[0]\n",
    "    img_pad = pad_img(img, padding)\n",
    "    num_rows = img_pad.shape[0]\n",
    "    num_cols = img_pad.shape[1]\n",
    "    # Want to make sure that the output is the size of\n",
    "    # the image without padding\n",
    "    img_conv = np.zeros((num_rows-2*padding, num_cols-2*padding))\n",
    "    \n",
    "    # The +1 is needed to get the center to be the first pixel\n",
    "    # The padding gives half of it but as it is odd you need to add 1\n",
    "    for i in range(num_rows - kernel_size + 1):\n",
    "        for j in range(num_cols - kernel_size + 1):\n",
    "            img_window = img_pad[i:i+kernel_size, j:j+kernel_size]\n",
    "            img_conv[i, j] = (img_window.flatten()*kernel.flatten()).sum()\n",
    "    return img_conv"
   ]
  },
  {
   "cell_type": "code",
   "execution_count": 4,
   "metadata": {},
   "outputs": [],
   "source": [
    "def activation_relu(img: np.ndarray) -> np.ndarray:\n",
    "    # ReLu leaves positives the same, but sets negatives to 0\n",
    "    img[img<0] = 0\n",
    "    return img"
   ]
  },
  {
   "cell_type": "code",
   "execution_count": 5,
   "metadata": {},
   "outputs": [],
   "source": [
    "def pool_convolution(img: np.ndarray) -> np.ndarray:\n",
    "    num_rows = img.shape[0]\n",
    "    num_cols=img.shape[1]\n",
    "    max_pool = np.zeros((int(num_rows/2), int(num_cols/2)))\n",
    "    # Shift the window across in steps of 2\n",
    "    for i in range(0, num_rows, 2):\n",
    "        for j in range(0, num_cols, 2):\n",
    "            # Get a window of the image\n",
    "            img_window = img[i:i+2, j:j+2]\n",
    "            # Take the maximum value of the window and\n",
    "            # set it as the value in teh max pool\n",
    "            max_pool[int(i/2), int(j/2)] = img_window.max()\n",
    "    return max_pool\n",
    "            "
   ]
  },
  {
   "cell_type": "code",
   "execution_count": 6,
   "metadata": {},
   "outputs": [],
   "source": [
    "def activation_sigmoid(flattened: np.ndarray,\n",
    "                       weights: np.ndarray,\n",
    "                       bias: float) -> float:\n",
    "    # Get the activation value\n",
    "    x = weights.dot(flattened) + bias\n",
    "    # This is just the sigmoid function\n",
    "    y_hat = 1/(1+np.exp(-x))\n",
    "    return y_hat"
   ]
  },
  {
   "cell_type": "code",
   "execution_count": 7,
   "metadata": {},
   "outputs": [],
   "source": [
    "def forward_pass(img: np.ndarray,\n",
    "                 kernel: np.ndarray,\n",
    "                 bias_in: float,\n",
    "                 weights: np.ndarray,\n",
    "                 bias_out:float) -> float:\n",
    "    # Get padding size\n",
    "    padding = int(kernel.shape[0]/2)\n",
    "    # Convolute image\n",
    "    img_conv = convolute_2d(img, kernel, padding)\n",
    "    # Add bias term and ReLu activation\n",
    "    img_conv = img_conv + bias_in\n",
    "    img_conv = activation_relu(img_conv)\n",
    "    # Max pool the image to shrink it, then flatten\n",
    "    img_pool = pool_convolution(img_conv)\n",
    "    flattened_pool = img_pool.flatten()\n",
    "    # Get y_hat\n",
    "    y_hat = activation_sigmoid(flattened_pool, weights, bias_out)\n",
    "    return y_hat"
   ]
  },
  {
   "cell_type": "code",
   "execution_count": null,
   "metadata": {},
   "outputs": [],
   "source": []
  }
 ],
 "metadata": {
  "kernelspec": {
   "display_name": ".venv",
   "language": "python",
   "name": "python3"
  },
  "language_info": {
   "codemirror_mode": {
    "name": "ipython",
    "version": 3
   },
   "file_extension": ".py",
   "mimetype": "text/x-python",
   "name": "python",
   "nbconvert_exporter": "python",
   "pygments_lexer": "ipython3",
   "version": "3.11.7"
  }
 },
 "nbformat": 4,
 "nbformat_minor": 2
}
