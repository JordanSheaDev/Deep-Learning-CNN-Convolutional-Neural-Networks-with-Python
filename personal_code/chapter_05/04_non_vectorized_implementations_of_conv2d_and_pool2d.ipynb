{
 "cells": [
  {
   "cell_type": "code",
   "execution_count": 1,
   "metadata": {},
   "outputs": [],
   "source": [
    "import numpy as np"
   ]
  },
  {
   "cell_type": "code",
   "execution_count": 2,
   "metadata": {},
   "outputs": [],
   "source": [
    "def pad_img(img: np.ndarray, padding: int) -> np.ndarray:\n",
    "    # Get size of image\n",
    "    num_rows = img.shape[0]\n",
    "    num_cols = img.shape[1]\n",
    "    \n",
    "    # Create padding for rows\n",
    "    zero_rows = np.zeros((padding, num_cols))\n",
    "    # Add padding to each side of the image\n",
    "    img = np.vstack((zero_rows, img))\n",
    "    img = np.vstack((img, zero_rows))\n",
    "    \n",
    "    # Create padding for columns (need to add 2*padding\n",
    "    # as the image is now wider)\n",
    "    zero_cols = np.zeros((num_rows+2*padding, padding))\n",
    "    # Add padding to top and bottom of the image\n",
    "    img = np.hstack((zero_cols, img))\n",
    "    img = np.hstack((img, zero_cols))\n",
    "    \n",
    "    return img"
   ]
  },
  {
   "cell_type": "code",
   "execution_count": 3,
   "metadata": {},
   "outputs": [
    {
     "data": {
      "text/plain": [
       "array([[0., 0., 0., 0., 0., 0., 0.],\n",
       "       [0., 1., 3., 3., 3., 1., 0.],\n",
       "       [0., 2., 4., 1., 1., 3., 0.],\n",
       "       [0., 4., 2., 1., 3., 3., 0.],\n",
       "       [0., 3., 1., 1., 3., 4., 0.],\n",
       "       [0., 1., 3., 4., 2., 1., 0.],\n",
       "       [0., 0., 0., 0., 0., 0., 0.]])"
      ]
     },
     "execution_count": 3,
     "metadata": {},
     "output_type": "execute_result"
    }
   ],
   "source": [
    "# Create an arbitray array to pad\n",
    "img = np.random.randint(1, 5, (5, 5))\n",
    "padding = 1\n",
    "\n",
    "img_padded = pad_img(img, padding)\n",
    "img_padded"
   ]
  },
  {
   "cell_type": "code",
   "execution_count": 4,
   "metadata": {},
   "outputs": [],
   "source": [
    "def convolute_2d(img: np.ndarray, kernel: np.ndarray, padding: int) -> np.ndarray:\n",
    "    # Assume square mask\n",
    "    kernel_size = kernel.shape[0]\n",
    "    img_pad = pad_img(img, padding)\n",
    "    num_rows = img_pad.shape[0]\n",
    "    num_cols = img_pad.shape[1]\n",
    "    # Want to make sure that the output is the size of\n",
    "    # the image without padding\n",
    "    img_conv = np.zeros((num_rows-2*padding, num_cols-2*padding))\n",
    "    \n",
    "    # The +1 is needed to get the center to be the first pixel\n",
    "    # The padding gives half of it but as it is odd you need to add 1\n",
    "    for i in range(num_rows - kernel_size + 1):\n",
    "        for j in range(num_cols - kernel_size + 1):\n",
    "            img_window = img_pad[i:i+kernel_size, j:j+kernel_size]\n",
    "            img_conv[i, j] = (img_window.flatten()*kernel.flatten()).sum()\n",
    "    return img_conv"
   ]
  },
  {
   "cell_type": "code",
   "execution_count": 5,
   "metadata": {},
   "outputs": [],
   "source": [
    "def activation_relu(img: np.ndarray) -> np.ndarray:\n",
    "    img[img<0] = 0\n",
    "    return img"
   ]
  },
  {
   "cell_type": "code",
   "execution_count": 6,
   "metadata": {},
   "outputs": [],
   "source": [
    "def pool_convolution(img: np.ndarray) -> np.ndarray:\n",
    "    num_rows = img.shape[0]\n",
    "    num_cols=img.shape[1]\n",
    "    max_pool = np.zeros((int(num_rows/2), int(num_cols/2)))\n",
    "    for i in range(0, num_rows, 2):\n",
    "        for j in range(0, num_cols, 2):\n",
    "            img_window = img[i:i+2, j:j+2]\n",
    "            max_pool[int(i/2), int(j/2)] = img_window.max()\n",
    "    return max_pool\n",
    "            "
   ]
  },
  {
   "cell_type": "code",
   "execution_count": 7,
   "metadata": {},
   "outputs": [],
   "source": [
    "img_2 = np.random.randint(-2, 5, (32, 32))\n",
    "kernel = np.ones((5,5))\n",
    "padding = int(kernel.shape[0]/2)\n",
    "img_conv = convolute_2d(img_2, kernel, padding)\n",
    "bias = np.random.randint(0, 5)\n",
    "img_conv = img_conv + bias\n",
    "img_conv = activation_relu(img_conv)"
   ]
  },
  {
   "cell_type": "code",
   "execution_count": 8,
   "metadata": {},
   "outputs": [
    {
     "data": {
      "text/plain": [
       "array([[18., 17., 20., ..., 38., 34., 24.],\n",
       "       [26., 24., 27., ..., 42., 35., 27.],\n",
       "       [34., 32., 35., ..., 48., 38., 31.],\n",
       "       ...,\n",
       "       [ 8., 11., 20., ..., 27., 21., 17.],\n",
       "       [ 5.,  6., 11., ..., 22., 14.,  9.],\n",
       "       [ 4.,  3.,  4., ..., 22., 16.,  9.]])"
      ]
     },
     "execution_count": 8,
     "metadata": {},
     "output_type": "execute_result"
    }
   ],
   "source": [
    "img_conv"
   ]
  }
 ],
 "metadata": {
  "kernelspec": {
   "display_name": ".venv",
   "language": "python",
   "name": "python3"
  },
  "language_info": {
   "codemirror_mode": {
    "name": "ipython",
    "version": 3
   },
   "file_extension": ".py",
   "mimetype": "text/x-python",
   "name": "python",
   "nbconvert_exporter": "python",
   "pygments_lexer": "ipython3",
   "version": "3.11.7"
  }
 },
 "nbformat": 4,
 "nbformat_minor": 2
}
