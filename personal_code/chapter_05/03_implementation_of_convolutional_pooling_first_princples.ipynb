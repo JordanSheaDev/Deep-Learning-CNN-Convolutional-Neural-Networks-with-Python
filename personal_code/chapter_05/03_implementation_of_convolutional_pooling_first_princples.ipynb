{
 "cells": [
  {
   "cell_type": "code",
   "execution_count": 2,
   "metadata": {},
   "outputs": [],
   "source": [
    "import numpy as np\n",
    "import matplotlib.pyplot as plt\n",
    "import skimage.measure"
   ]
  },
  {
   "cell_type": "code",
   "execution_count": 3,
   "metadata": {},
   "outputs": [
    {
     "data": {
      "text/plain": [
       "array([[  20,  200,   -5,   23],\n",
       "       [ -13,  134,  119,  100],\n",
       "       [ 120,   32,   49,   25],\n",
       "       [-120,   12,    9,   23]])"
      ]
     },
     "execution_count": 3,
     "metadata": {},
     "output_type": "execute_result"
    }
   ],
   "source": [
    "# Create an arbitrary array\n",
    "arr1 = np.array([\n",
    "    [20, 200, -5, 23],\n",
    "    [-13, 134, 119, 100],\n",
    "    [120, 32, 49, 25],\n",
    "    [-120, 12, 9, 23]\n",
    "])\n",
    "arr1"
   ]
  },
  {
   "cell_type": "code",
   "execution_count": 4,
   "metadata": {},
   "outputs": [
    {
     "data": {
      "text/plain": [
       "array([[200, 119],\n",
       "       [120,  49]])"
      ]
     },
     "execution_count": 4,
     "metadata": {},
     "output_type": "execute_result"
    }
   ],
   "source": [
    "# Reduce the array by using a 2x2 grid and return the max\n",
    "# Take a step of 2 and do it again\n",
    "# This will result in a 2x2 matrix\n",
    "skimage.measure.block_reduce(arr1, (2, 2), np.max)\n",
    "# This is done is after convolutions image size can increase significantly"
   ]
  }
 ],
 "metadata": {
  "kernelspec": {
   "display_name": ".venv",
   "language": "python",
   "name": "python3"
  },
  "language_info": {
   "codemirror_mode": {
    "name": "ipython",
    "version": 3
   },
   "file_extension": ".py",
   "mimetype": "text/x-python",
   "name": "python",
   "nbconvert_exporter": "python",
   "pygments_lexer": "ipython3",
   "version": "3.11.7"
  }
 },
 "nbformat": 4,
 "nbformat_minor": 2
}
